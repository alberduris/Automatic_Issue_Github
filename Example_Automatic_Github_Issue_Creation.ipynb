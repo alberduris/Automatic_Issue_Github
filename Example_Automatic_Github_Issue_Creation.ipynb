{
 "cells": [
  {
   "cell_type": "code",
   "execution_count": 1,
   "metadata": {
    "collapsed": true
   },
   "outputs": [],
   "source": [
    "import json\n",
    "import requests\n",
    "import re"
   ]
  },
  {
   "cell_type": "code",
   "execution_count": 2,
   "metadata": {
    "collapsed": true
   },
   "outputs": [],
   "source": [
    "# Authentication for user filing issue (must have read/write access to\n",
    "# repository to add issue to)\n",
    "USERNAME = 'alberduris'\n",
    "PASSWORD = 'XXXX'\n",
    "\n",
    "# The repository to add this issue to\n",
    "REPO_OWNER = 'OpenMined'\n",
    "REPO_NAME = 'PySyft'"
   ]
  },
  {
   "cell_type": "code",
   "execution_count": 3,
   "metadata": {
    "collapsed": true
   },
   "outputs": [],
   "source": [
    "def make_github_issue(title, body=None, labels=None):\n",
    "    '''Create an issue on github.com using the given parameters.'''\n",
    "    # Our url to create issues via POST\n",
    "    url = 'https://api.github.com/repos/%s/%s/issues' % (REPO_OWNER, REPO_NAME)\n",
    "    # Create an authenticated session to create the issue\n",
    "    session = requests.session()\n",
    "    auth = (USERNAME, PASSWORD)\n",
    "    session.auth = auth\n",
    "\n",
    "    # Create our issue\n",
    "    issue = {'title': title,\n",
    "             'body': body,\n",
    "            'labels':labels}\n",
    "    # Add the issue to our repository\n",
    "    r = session.post(url, json.dumps(issue))\n",
    "    if r.status_code == 201:\n",
    "        print ('Successfully created Issue \"%s\"' % title)\n",
    "    else:\n",
    "        print ('Could not create Issue \"%s\"' % title)\n",
    "        print ('Response:', r.content)"
   ]
  },
  {
   "cell_type": "markdown",
   "metadata": {},
   "source": [
    "## Params"
   ]
  },
  {
   "cell_type": "code",
   "execution_count": 4,
   "metadata": {
    "collapsed": true
   },
   "outputs": [],
   "source": [
    "function_title = 'Add'\n",
    "function_name = 'add'\n",
    "where = 'cpu'"
   ]
  },
  {
   "cell_type": "markdown",
   "metadata": {},
   "source": [
    "## Title"
   ]
  },
  {
   "cell_type": "code",
   "execution_count": 5,
   "metadata": {
    "collapsed": true
   },
   "outputs": [],
   "source": [
    "TITLE = ('Implement the %s function for IntTensor on the %s' %(function_title,where))"
   ]
  },
  {
   "cell_type": "markdown",
   "metadata": {},
   "source": [
    "## Body"
   ]
  },
  {
   "cell_type": "code",
   "execution_count": 6,
   "metadata": {
    "collapsed": true
   },
   "outputs": [],
   "source": [
    "BODY_DYNAMIC = (\"\"\"As a Data Scientist using PySyft's IntTensor type, I want to leverage a wide range of methods which use our new Unity backend. For this ticket to be complete, the %s should be added to our IntTensor class with the appropriate functionality, returning a new tensor.\n",
    "\n",
    "If you want to take it to the next level, boost it implementing the operation on GPU: <link>\n",
    "HLSL (GPU language) tutorial here: <link-to-gpu-tutorial>\n",
    "\n",
    "\"\"\" %function_name)\n",
    "\n",
    "BODY_STATIC = \"\"\"Note, it is possible that when you look in the code you'll find that parts of this issue were completed on the backend while implementing another issue. This is par for the course as features do not live in isolation. If this is the case, just take it as a convenience that someone already built that part and press on!\n",
    "\n",
    "### Every Reference You Might Need for this Issue:\n",
    "\n",
    "- For a reference on the operation this performs check out [PyTorch](http://pytorch.org/docs/master/tensors.html)'s documentation.\n",
    "- For a reference on how to program in Unity, check out [this basic tutorial](https://unity3d.com/learn/tutorials/projects/roll-ball-tutorial)\n",
    "- For a reference on how to write HLSL code, check out [this basic tutorial](http://kylehalladay.com/blog/tutorial/2014/06/27/Compute-Shaders-Are-Nifty.html)\n",
    "- For a complete tutorial on how to add functions to FloatTensor (step by step guide) see [this Google Document](https://docs.google.com/document/d/1WRd7gGLFN0Awtf86AICYIHtg3gfFWLBa5wYTthsB3i0/edit)\n",
    "- For a reference on how other functions like this have been implemented check out the functions in [this notebook](https://github.com/OpenMined/OpenMined/blob/master/notebooks/Syft\\%20Tensor\\%20Example\\%20Notebook.ipynb) as well as the corresponding files that made it possible ([SyftController](https://github.com/OpenMined/OpenMined/blob/master/Assets/OpenMined/Network/Controllers/SyftController.cs), [FloatTensor.Ops](https://github.com/OpenMined/OpenMined/blob/master/Assets/OpenMined/Syft/Tensor/FloatTensor.Ops.cs), [FloatTensor.ShaderOps](https://github.com/OpenMined/OpenMined/blob/master/Assets/OpenMined/Syft/Tensor/FloatTensor.ShaderOps.cs), [FloatTensorShaders](https://github.com/OpenMined/OpenMined/blob/master/Assets/OpenMined/Syft/Math/Shaders/FloatTensorShaders.compute), and [FloatTensorTest](https://github.com/OpenMined/OpenMined/blob/master/Assets/OpenMined.Tests/Editor/FloatTensorTest.cs)).\n",
    "- And of course, please consider our [Contributor Guidelines](https://github.com/OpenMined/Docs/blob/master/contributing/guidelines.md) for all contributions.\n",
    "### Acceptance Criteria:\n",
    "\n",
    "- [ ] comment below that you're interested in picking up this issue\n",
    "- [ ] an example in a notebook in our [tests folder](https://github.com/OpenMined/OpenMined/tree/master/notebooks/tests) showing how to use the functionality from PySyft\n",
    "- [ ] an integration test in PySyft demonstrating the correct CPU operation implemented over an IntTensor while connected to a Unity backend\n",
    "- [ ] a Unit Test in OpenMined/OpenMined demonstrating the correct operation on a FloatTensor\n",
    "- [ ] [inline](http://pytorch.org/docs/master/tensors.html) documentation in the python code. For inspiration on inline documentation, please check out PyTorch's documentation for this operator.\n",
    "- [ ] Link your Pull Request back to this Issue so that it gets closed appropriately when the PR is merged.\"\"\"\n",
    "\n",
    "BODY = BODY_DYNAMIC + BODY_STATIC"
   ]
  },
  {
   "cell_type": "markdown",
   "metadata": {},
   "source": [
    "## Labels"
   ]
  },
  {
   "cell_type": "code",
   "execution_count": 7,
   "metadata": {
    "collapsed": true
   },
   "outputs": [],
   "source": [
    "LABELS = ['C#','CPU','Python','enhancement','good first issue','help wanted']"
   ]
  },
  {
   "cell_type": "markdown",
   "metadata": {},
   "source": [
    "## Go"
   ]
  },
  {
   "cell_type": "code",
   "execution_count": 8,
   "metadata": {},
   "outputs": [
    {
     "name": "stdout",
     "output_type": "stream",
     "text": [
      "Successfully created Issue \"Test Issue Title\"\n"
     ]
    }
   ],
   "source": [
    "make_github_issue('Test Issue Title', 'test issue body', LABELS)"
   ]
  },
  {
   "cell_type": "code",
   "execution_count": null,
   "metadata": {
    "collapsed": true
   },
   "outputs": [],
   "source": []
  }
 ],
 "metadata": {
  "kernelspec": {
   "display_name": "Python 3",
   "language": "python",
   "name": "python3"
  },
  "language_info": {
   "codemirror_mode": {
    "name": "ipython",
    "version": 3
   },
   "file_extension": ".py",
   "mimetype": "text/x-python",
   "name": "python",
   "nbconvert_exporter": "python",
   "pygments_lexer": "ipython3",
   "version": "3.6.1"
  }
 },
 "nbformat": 4,
 "nbformat_minor": 2
}
