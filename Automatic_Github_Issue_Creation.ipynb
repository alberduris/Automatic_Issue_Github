{
 "cells": [
  {
   "cell_type": "code",
   "execution_count": 1,
   "metadata": {
    "collapsed": true
   },
   "outputs": [],
   "source": [
    "import json\n",
    "import requests\n",
    "import re"
   ]
  },
  {
   "cell_type": "code",
   "execution_count": 2,
   "metadata": {
    "collapsed": true
   },
   "outputs": [],
   "source": [
    "# Authentication for user filing issue (must have read/write access to\n",
    "# repository to add issue to)\n",
    "USERNAME = 'alberduris'\n",
    "PASSWORD = 'XXXX'\n",
    "\n",
    "# The repository to add this issue to\n",
    "REPO_OWNER = 'alberduris'\n",
    "REPO_NAME = 'CodingProblems'"
   ]
  },
  {
   "cell_type": "code",
   "execution_count": 3,
   "metadata": {
    "collapsed": true
   },
   "outputs": [],
   "source": [
    "def make_github_issue(title, body=None, labels=None):\n",
    "    '''Create an issue on github.com using the given parameters.'''\n",
    "    # Our url to create issues via POST\n",
    "    url = 'https://api.github.com/repos/%s/%s/issues' % (REPO_OWNER, REPO_NAME)\n",
    "    # Create an authenticated session to create the issue\n",
    "    session = requests.session()\n",
    "    auth = (USERNAME, PASSWORD)\n",
    "    session.auth = auth\n",
    "\n",
    "    # Create our issue\n",
    "    issue = {'title': title,\n",
    "             'body': body,\n",
    "            'labels':labels}\n",
    "    # Add the issue to our repository\n",
    "    r = session.post(url, json.dumps(issue))\n",
    "    if r.status_code == 201:\n",
    "        print ('Successfully created Issue \"%s\"' % title)\n",
    "    else:\n",
    "        print ('Could not create Issue \"%s\"' % title)\n",
    "        print ('Response:', r.content)"
   ]
  },
  {
   "cell_type": "markdown",
   "metadata": {},
   "source": [
    "## All in one!"
   ]
  },
  {
   "cell_type": "code",
   "execution_count": 5,
   "metadata": {
    "collapsed": true
   },
   "outputs": [],
   "source": [
    "def load_funcs():\n",
    "    file = open('funcs.txt','r')\n",
    "    lines = file.readlines()\n",
    "    funcs_titles = []\n",
    "    funcs_names = []\n",
    "    \n",
    "    for line in lines:\n",
    "        if('_' in line):\n",
    "            continue\n",
    "        line = re.sub('\\n','',line)\n",
    "        funcs_titles.append(line.title())\n",
    "        funcs_names.append(line.lower()+'()')\n",
    "    return funcs_titles,funcs_names"
   ]
  },
  {
   "cell_type": "code",
   "execution_count": 6,
   "metadata": {
    "collapsed": true
   },
   "outputs": [],
   "source": [
    "function_titles, function_names = load_funcs()\n",
    "function_titles = function_titles[0:1]\n",
    "function_names = function_names[0:1]\n",
    "where = ['CPU','GPU']"
   ]
  },
  {
   "cell_type": "code",
   "execution_count": 7,
   "metadata": {},
   "outputs": [
    {
     "data": {
      "text/plain": [
       "(['Abs'], ['abs()'])"
      ]
     },
     "execution_count": 7,
     "metadata": {},
     "output_type": "execute_result"
    }
   ],
   "source": [
    "function_titles,function_names"
   ]
  },
  {
   "cell_type": "markdown",
   "metadata": {},
   "source": [
    "## 1.Normal CPU / 2.Inline CPU / 3.Normal GPU / 4.Inline GPU"
   ]
  },
  {
   "cell_type": "code",
   "execution_count": 8,
   "metadata": {},
   "outputs": [
    {
     "name": "stdout",
     "output_type": "stream",
     "text": [
      "Successfully created Issue \"Implement the Abs function for IntTensor on the CPU\"\n",
      "Successfully created Issue \"Implement the inline Abs function for IntTensor on the CPU\"\n",
      "Successfully created Issue \"Implement the Abs function for IntTensor on the GPU\"\n",
      "Successfully created Issue \"Implement the inline Abs function for IntTensor on the GPU\"\n"
     ]
    }
   ],
   "source": [
    "BODY_STATIC = open('body_static.txt','r').read()\n",
    "\n",
    "for function_title,function_name in zip(function_titles,function_names):\n",
    "    \n",
    "    #1\n",
    "    TITLE = ('Implement the %s function for IntTensor on the %s' %(function_title,where[0]))\n",
    "    BODY_DYNAMIC = ('''As a Data Scientist using PySyft's IntTensor type, I want to leverage a wide range of methods which use our new Unity backend. For this ticket to be complete, the %s should be added to our IntTensor class with the appropriate functionality, returning a new tensor.\\n\\n''' % function_name)\n",
    "    BODY = BODY_DYNAMIC + BODY_STATIC\n",
    "    LABELS = ['C#','CPU','Python','enhancement','good first issue','help wanted']\n",
    "    make_github_issue(TITLE, BODY, LABELS)\n",
    "    \n",
    "    #2\n",
    "    TITLE = ('Implement the inline %s function for IntTensor on the %s' %(function_title,where[0]))\n",
    "    BODY_DYNAMIC = ('''As a Data Scientist using PySyft's IntTensor type, I want to leverage a wide range of methods which use our new Unity backend. For this ticket to be complete, the inline %s should be added to our IntTensor class with the appropriate functionality.\\n\\n''' % function_name)\n",
    "    BODY = BODY_DYNAMIC + BODY_STATIC\n",
    "\n",
    "    make_github_issue(TITLE, BODY, LABELS)\n",
    "    \n",
    "    #3\n",
    "    TITLE = ('Implement the %s function for IntTensor on the %s' %(function_title,where[1]))\n",
    "    BODY_DYNAMIC = ('''As a Data Scientist using PySyft's IntTensor type, I want to leverage a wide range of methods which use our new Unity backend. For this ticket to be complete, the GPU implementation of %s should be added to our IntTensor class with the appropriate functionality, returning a new tensor.\\n\\n''' % function_name)\n",
    "    BODY = BODY_DYNAMIC + BODY_STATIC\n",
    "    LABELS = ['C#','needs GPU','Python','enhancement','help wanted']\n",
    "    make_github_issue(TITLE, BODY, LABELS)\n",
    "    \n",
    "    #4\n",
    "    TITLE = ('Implement the inline %s function for IntTensor on the %s' %(function_title,where[1]))\n",
    "    BODY_DYNAMIC = ('''As a Data Scientist using PySyft's IntTensor type, I want to leverage a wide range of methods which use our new Unity backend. For this ticket to be complete, the inline GPU implementation of %s should be added to our IntTensor class with the appropriate functionality.\\n\\n''' % function_name)\n",
    "    BODY = BODY_DYNAMIC + BODY_STATIC\n",
    "    make_github_issue(TITLE, BODY, LABELS)\n",
    "    "
   ]
  },
  {
   "cell_type": "code",
   "execution_count": null,
   "metadata": {
    "collapsed": true
   },
   "outputs": [],
   "source": []
  }
 ],
 "metadata": {
  "kernelspec": {
   "display_name": "Python 3",
   "language": "python",
   "name": "python3"
  },
  "language_info": {
   "codemirror_mode": {
    "name": "ipython",
    "version": 3
   },
   "file_extension": ".py",
   "mimetype": "text/x-python",
   "name": "python",
   "nbconvert_exporter": "python",
   "pygments_lexer": "ipython3",
   "version": "3.6.1"
  }
 },
 "nbformat": 4,
 "nbformat_minor": 2
}
